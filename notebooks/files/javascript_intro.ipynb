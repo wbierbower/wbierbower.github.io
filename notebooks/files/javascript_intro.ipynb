{
 "cells": [
  {
   "cell_type": "markdown",
   "metadata": {},
   "source": [
    "# Javascript: Parts"
   ]
  },
  {
   "cell_type": "markdown",
   "metadata": {},
   "source": [
    "This notebook covers the following material about the JavaScript langauge using examples from the [Mozilla website](https://developer.mozilla.org/en-US/docs/JavaScript).\n",
    "\n",
    "- Built-in Objects\n",
    "- Statements\n",
    "- Expressions\n",
    "- Grammar and Types\n",
    "- Control Flow and Error Handling"
   ]
  },
  {
   "cell_type": "markdown",
   "metadata": {},
   "source": [
    "## Built-in (Global) Objects\n",
    "\n",
    "Value Properties\n",
    "\n",
    "- `Infinity`\n",
    "- `NaN`\n",
    "- `undefined`\n",
    "- `null`\n",
    "\n",
    "Function Properties\n",
    "\n",
    "- `eval()`\n",
    "- `uneval()`\n",
    "- `isFinite()`\n",
    "- `isNaN()`\n",
    "- `parseFloat()`\n",
    "- `parseInt()`\n",
    "- `decodeURI()`\n",
    "- `decodeURIComponent()`\n",
    "- `encodeURI()`\n",
    "- `encodeURIComponent()`\n",
    "- `escape()`\n",
    "- `unescape()`\n",
    "\n",
    "Fundamental Objects\n",
    "\n",
    "- `Object`\n",
    "- `Function`\n",
    "- `Boolean`\n",
    "- `Symbol`\n",
    "- `Error`\n",
    "- `EvalError`\n",
    "- `InternalError`\n",
    "- `RangeError`\n",
    "- `ReferenceError`\n",
    "- `SyntaxError`\n",
    "- `TypeError`\n",
    "- `URIError`\n",
    "\n",
    "Numbers and Dates\n",
    "\n",
    "- `Number`\n",
    "- `Math`\n",
    "- `Date`\n",
    "\n",
    "Text Processing\n",
    "\n",
    "- `String`\n",
    "- `RegExp`\n",
    "\n",
    "\n",
    "Indexed Collections\n",
    "\n",
    "- `Array`\n",
    "- `Int8Array`\n",
    "- `Uint8Array`\n",
    "\n",
    "Keyed Collections\n",
    "\n",
    "- `Map`\n",
    "- `Set`\n",
    "- `WeakMap`\n",
    "- `WeakSet`\n",
    "\n",
    "Vector Collections\n",
    "\n",
    "- `SIMD`, ...\n",
    "\n",
    "Structured Data\n",
    "\n",
    "- `ArrayBuffer`\n",
    "- `JSON`\n",
    "\n",
    "Control Abstraction Objects\n",
    "\n",
    "- `Promise`\n",
    "- `Generator`\n",
    "- `GeneratorFunction`\n",
    "\n",
    "Reflection\n",
    "\n",
    "- `Reflect`\n",
    "- `Proxy`\n",
    "\n",
    "Internationalization\n",
    "\n",
    "- `Itl`\n",
    "\n",
    "Non-standard Objects\n",
    "\n",
    "- `Iterator`\n",
    "- `ParallelArray`\n",
    "- `StopIteration`"
   ]
  },
  {
   "cell_type": "markdown",
   "metadata": {},
   "source": [
    "## Statements\n",
    "\n",
    "Control Flow\n",
    "\n",
    "- Block: `{}`\n",
    "- `break`\n",
    "- `continue`\n",
    "- `Empty`\n",
    "- `if...else`\n",
    "- `switch`\n",
    "- `throw`\n",
    "- `try...catch`\n",
    "\n",
    "Declarations\n",
    "\n",
    "- `var`\n",
    "- `let`\n",
    "- `const`\n",
    "\n",
    "Functions and Classes\n",
    "\n",
    "- `function`\n",
    "- `function*`\n",
    "- `return`\n",
    "- `class`\n",
    "\n",
    "Iterations\n",
    "\n",
    "- `do...while`\n",
    "- `for`\n",
    "- `for each...in`\n",
    "- `for...in`\n",
    "- `for...of`\n",
    "- `while`\n",
    "\n",
    "Others\n",
    "\n",
    "- `debugger`\n",
    "- `export`\n",
    "- `import`\n",
    "- `label`"
   ]
  },
  {
   "cell_type": "markdown",
   "metadata": {},
   "source": [
    "## Expressions\n",
    "\n",
    "Primary Expression\n",
    "\n",
    "- `this`: refers to function's execution context\n",
    "- `function`: defines function expression\n",
    "- `class`: defines a class expression\n",
    "- `function*`\n",
    "- `yield`\n",
    "- `yield*`\n",
    "- `[]`: array initializer\n",
    "- `{}`: object initializer\n",
    "- `/ab+c/i`\n",
    "- `()`: grouping operator\n",
    "\n",
    "Left-hand-side Expressions\n",
    "\n",
    "- Property accessors (e.g. `object.property` and `object[\"property\"]`)\n",
    "- `new`\n",
    "- `new.target`\n",
    "- `super`\n",
    "\n",
    "Increment and Decrement\n",
    "\n",
    "- `A++`\n",
    "- `A--`\n",
    "- `++A`\n",
    "- `--A`\n",
    "\n",
    "Unary Operators\n",
    "\n",
    "- `delete`\n",
    "- `void`\n",
    "- `typeof`\n",
    "- `+`, `-`, `~`, `!`\n",
    "\n",
    "Arithmetic Operators\n",
    "\n",
    "- `+`, `-`, `/`, `*`, `%`, `**`\n",
    "\n",
    "Relational Operators\n",
    "\n",
    "- `in`\n",
    "- `instanceof`\n",
    "- `<`\n",
    "- `>`\n",
    "- `<=`\n",
    "- `>=`\n",
    "\n",
    "Equality Operators\n",
    "\n",
    "- `==`: equality\n",
    "- `!=`\n",
    "- `===`: identity\n",
    "- `!==`\n",
    "\n",
    "Bitwise Shift Operators\n",
    "\n",
    "- `<<`: left shift\n",
    "- `>>`: right shift\n",
    "- `>>>`: bitwise unsigned right shift\n",
    "\n",
    "Binary Bitwise Operators\n",
    "\n",
    "- `&`, `|`, `^`\n",
    "\n",
    "Binary Logic Operators\n",
    "\n",
    "- `&&`, `||`\n",
    "\n",
    "Conditional (ternary) Operators\n",
    "\n",
    "- `(condition ? ifTrue : ifFalse)`\n",
    "\n",
    "Assignment Operators\n",
    "\n",
    "- `=`\n",
    "- `*=`\n",
    "- `/=`\n",
    "- `%=`\n",
    "- `+=`\n",
    "- `-=`\n",
    "- `<<=`\n",
    "- `>>=`\n",
    "- `>>>=`\n",
    "- `&=`\n",
    "- `^=`\n",
    "- `|=`\n",
    "- `[a, b] = [1, 2]`\n",
    "- `{a, b} = {a:1, b:2}`\n",
    "\n",
    "Comma Operator\n",
    "\n",
    "- `,`: allows multiple expressions to be evaluated in a single statement and returns the result of the last expression\n",
    "\n",
    "Non-standard Features\n",
    "\n",
    "- `[for (x of y) x]`: array comprehensions\n",
    "- `[for (x of y) y]`: generator comprehensions"
   ]
  },
  {
   "cell_type": "markdown",
   "metadata": {},
   "source": [
    "## Grammar and Types"
   ]
  },
  {
   "cell_type": "code",
   "execution_count": 1,
   "metadata": {
    "collapsed": false
   },
   "outputs": [],
   "source": [
    "/*\n",
    "    This is a multiline comment.\n",
    "*/\n",
    "\n",
    "// This is an inline comment."
   ]
  },
  {
   "cell_type": "code",
   "execution_count": 2,
   "metadata": {
    "collapsed": false
   },
   "outputs": [],
   "source": [
    "// Grammar and Types\n",
    "\n",
    "var var_1 = 'a';   // a declared variable initialized with a value\n",
    "{let var_2 = 'b';} // a block scope local variable, optionally initializing it to a value\n",
    "const var_3 = 'c'; // declares a read-only named constant\n",
    "\n",
    "// variables can start with a letter, underscore, or dollar sign.\n",
    "var _var_4 = 'd';\n",
    "var $var_5 = 'e';"
   ]
  },
  {
   "cell_type": "code",
   "execution_count": 3,
   "metadata": {
    "collapsed": false
   },
   "outputs": [
    {
     "name": "stdout",
     "output_type": "stream",
     "text": [
      "a string and the number 9\n",
      "true\n"
     ]
    }
   ],
   "source": [
    "// the + operator concantenates strings and Numbers, but other operators do the reverse\n",
    "console.log(\"a string and the number \" + 9);\n",
    "console.log(\"9\" - 9 === 0);"
   ]
  },
  {
   "cell_type": "code",
   "execution_count": 10,
   "metadata": {
    "collapsed": false
   },
   "outputs": [
    {
     "name": "stdout",
     "output_type": "stream",
     "text": [
      "true\n"
     ]
    }
   ],
   "source": [
    "// empty array cells are filled with 'null'\n",
    "var sunset_colors = [\"blue\", , \"purple\"]\n",
    "console.log(sky[1] == null)"
   ]
  },
  {
   "cell_type": "code",
   "execution_count": 148,
   "metadata": {
    "collapsed": false
   },
   "outputs": [
    {
     "name": "stdout",
     "output_type": "stream",
     "text": [
      "true\n",
      "true\n",
      "false\n"
     ]
    }
   ],
   "source": [
    "// JSON objects are dictionary-like structures that contain data and functions\n",
    "car = {\n",
    "    make: 'honda',\n",
    "    model: 'odyssey',\n",
    "}\n",
    "console.log(car.make === 'honda')\n",
    "console.log(\"make\" in car)\n",
    "delete car.make\n",
    "console.log(\"make\" in car)"
   ]
  },
  {
   "cell_type": "code",
   "execution_count": 152,
   "metadata": {
    "collapsed": false
   },
   "outputs": [
    {
     "name": "stdout",
     "output_type": "stream",
     "text": [
      "8\n",
      "5\n"
     ]
    }
   ],
   "source": [
    "// Getters and Setters\n",
    "var o = {\n",
    "  a: 7,\n",
    "  get b() { \n",
    "    return this.a + 1;\n",
    "  },\n",
    "  set b(x) {\n",
    "    this.a = x / 2\n",
    "  }\n",
    "};\n",
    "\n",
    "console.log(o.b)\n",
    "o.b = 10\n",
    "console.log(o.a)"
   ]
  },
  {
   "cell_type": "code",
   "execution_count": 30,
   "metadata": {
    "collapsed": false
   },
   "outputs": [
    {
     "name": "stdout",
     "output_type": "stream",
     "text": [
      "false\n"
     ]
    }
   ],
   "source": [
    "// strings\n",
    "var s = 'this is a string'\n",
    "var m = 'this \\\n",
    "is \\\n",
    "a \\\n",
    "string'\n",
    "\n",
    "console.log(s === m)"
   ]
  },
  {
   "cell_type": "markdown",
   "metadata": {},
   "source": [
    "## Control Flow and Error Handling"
   ]
  },
  {
   "cell_type": "code",
   "execution_count": 32,
   "metadata": {
    "collapsed": false
   },
   "outputs": [
    {
     "name": "stdout",
     "output_type": "stream",
     "text": [
      "0\n",
      "1\n",
      "2\n"
     ]
    },
    {
     "data": {
      "text/plain": [
       "2"
      ]
     },
     "execution_count": 32,
     "metadata": {},
     "output_type": "execute_result"
    }
   ],
   "source": [
    "// a while-loop\n",
    "x = 0;\n",
    "while (x < 3){\n",
    "    console.log(x);\n",
    "    x++\n",
    "}"
   ]
  },
  {
   "cell_type": "code",
   "execution_count": 35,
   "metadata": {
    "collapsed": false
   },
   "outputs": [
    {
     "name": "stdout",
     "output_type": "stream",
     "text": [
      "0\n",
      "1\n",
      "2\n"
     ]
    }
   ],
   "source": [
    "// a for-loop\n",
    "for(var i=0; i<3; i++){\n",
    "    console.log(i)\n",
    "}"
   ]
  },
  {
   "cell_type": "code",
   "execution_count": 77,
   "metadata": {
    "collapsed": false
   },
   "outputs": [
    {
     "name": "stdout",
     "output_type": "stream",
     "text": [
      "0\n",
      "1\n",
      "2\n"
     ]
    }
   ],
   "source": [
    "// for ... in\n",
    "a = [1,2,3]\n",
    "for (i in a){\n",
    "    console.log(i)\n",
    "}"
   ]
  },
  {
   "cell_type": "code",
   "execution_count": 75,
   "metadata": {
    "collapsed": false
   },
   "outputs": [
    {
     "name": "stdout",
     "output_type": "stream",
     "text": [
      "1\n",
      "2\n",
      "3\n"
     ]
    }
   ],
   "source": [
    "// for ... of\n",
    "b = [1,2,3]\n",
    "for (i of a){\n",
    "    console.log(i)\n",
    "}"
   ]
  },
  {
   "cell_type": "code",
   "execution_count": 33,
   "metadata": {
    "collapsed": false
   },
   "outputs": [
    {
     "name": "stdout",
     "output_type": "stream",
     "text": [
      "true\n"
     ]
    }
   ],
   "source": [
    "// if-else statement\n",
    "if (true){\n",
    "    var x = 1;\n",
    "} else if (true) {\n",
    "    var x = 2;\n",
    "} else {\n",
    "    var x = 3;\n",
    "}\n",
    "\n",
    "console.log(x === 1)"
   ]
  },
  {
   "cell_type": "code",
   "execution_count": 42,
   "metadata": {
    "collapsed": false
   },
   "outputs": [
    {
     "name": "stdout",
     "output_type": "stream",
     "text": [
      "1\n",
      "2\n"
     ]
    }
   ],
   "source": [
    "// a switch statement\n",
    "switch(1) {\n",
    "    case 1:\n",
    "        console.log(1);\n",
    "    case 2:\n",
    "        console.log(2);\n",
    "        break;\n",
    "    default:\n",
    "        console.log(3)\n",
    "}\n",
    "\n"
   ]
  },
  {
   "cell_type": "code",
   "execution_count": 51,
   "metadata": {
    "collapsed": false
   },
   "outputs": [
    {
     "name": "stdout",
     "output_type": "stream",
     "text": [
      "[UserException] {\"message\":\"a user error has occurred!\",\"name\":\"UserException\"}\n",
      "do this regardless of what happens\n"
     ]
    }
   ],
   "source": [
    "// a throw statement\n",
    "function UserException(message) {\n",
    "  this.message = message;\n",
    "  this.name = \"UserException\";\n",
    "}\n",
    "\n",
    "UserException.prototype.toString = function() {\n",
    "  return this.name + ': \"' + this.message + '\"';\n",
    "}\n",
    "\n",
    "// try-except\n",
    "function afunc() {\n",
    "    throw new UserException(\"a user error has occurred!\");\n",
    "}\n",
    "\n",
    "try {\n",
    "    afunc();\n",
    "} catch (e) {\n",
    "    console.log(e);\n",
    "} finally {\n",
    "    console.log(\"do this regardless of what happens\");\n",
    "}"
   ]
  },
  {
   "cell_type": "code",
   "execution_count": 56,
   "metadata": {
    "collapsed": false
   },
   "outputs": [
    {
     "name": "stdout",
     "output_type": "stream",
     "text": [
      "Error\n",
      "the message\n"
     ]
    }
   ],
   "source": [
    "try {\n",
    "    throw (new Error(\"the message\"));\n",
    "} catch (e) {\n",
    "    console.log(e.name);\n",
    "    console.log(e.message);\n",
    "}"
   ]
  },
  {
   "cell_type": "markdown",
   "metadata": {},
   "source": [
    "## Functions and Classes"
   ]
  },
  {
   "cell_type": "code",
   "execution_count": 63,
   "metadata": {
    "collapsed": false
   },
   "outputs": [
    {
     "name": "stdout",
     "output_type": "stream",
     "text": [
      "a\n",
      "b\n",
      "c\n"
     ]
    }
   ],
   "source": [
    "// function\n",
    "function afunc(param1, param2) {\n",
    "    console.log(param1);\n",
    "    return param2;\n",
    "}\n",
    "\n",
    "var b = afunc('a', 'b')\n",
    "console.log(b)\n",
    "\n",
    "c = function(param1) {\n",
    "    console.log(param1)\n",
    "}\n",
    "\n",
    "c(\"c\")"
   ]
  },
  {
   "cell_type": "code",
   "execution_count": 5,
   "metadata": {
    "collapsed": false
   },
   "outputs": [
    {
     "name": "stdout",
     "output_type": "stream",
     "text": [
      "a\n"
     ]
    }
   ],
   "source": [
    "// lambda functions\n",
    "f = (param1) => {console.log(param1)}\n",
    "f('a')"
   ]
  },
  {
   "cell_type": "code",
   "execution_count": 72,
   "metadata": {
    "collapsed": false
   },
   "outputs": [
    {
     "name": "stdout",
     "output_type": "stream",
     "text": [
      "true\n"
     ]
    }
   ],
   "source": [
    "// class\n",
    "class Rectangle{\n",
    "    constructor (height, width) {\n",
    "        this.name = \"Rectangle\";\n",
    "        this.height = height;\n",
    "        this.width = width;\n",
    "    }\n",
    "}\n",
    "\n",
    "var a = new Rectangle(2, 3)\n",
    "console.log(a.height === 2)"
   ]
  },
  {
   "cell_type": "markdown",
   "metadata": {},
   "source": [
    "## Expressions and Operators"
   ]
  },
  {
   "cell_type": "code",
   "execution_count": 79,
   "metadata": {
    "collapsed": false
   },
   "outputs": [
    {
     "name": "stdout",
     "output_type": "stream",
     "text": [
      "1234\n",
      "1234\n"
     ]
    }
   ],
   "source": [
    "// this: refers to function's execution context\n",
    "var o  = {\n",
    "    data: 1234,\n",
    "    f: function(){\n",
    "        console.log(this.data)\n",
    "    }\n",
    "}\n",
    "\n",
    "o.f()\n",
    "\n",
    "// another way\n",
    "var o = {data: 1234};\n",
    "function afunc(){console.log(this.data)};\n",
    "o.f = afunc;\n",
    "\n",
    "o.f()"
   ]
  },
  {
   "cell_type": "code",
   "execution_count": 84,
   "metadata": {
    "collapsed": false
   },
   "outputs": [
    {
     "name": "stdout",
     "output_type": "stream",
     "text": [
      "true\n"
     ]
    }
   ],
   "source": [
    "// call + apply: bind function context to object\n",
    "o = {a: 1, b: 2};\n",
    "function add(c, d){\n",
    "    return this.a + this.b + c + d;\n",
    "}\n",
    "var ans1 = add.call(o,3,4);\n",
    "var ans2 = add.apply(o,[3,4]);\n",
    "console.log(ans1 == ans2)"
   ]
  },
  {
   "cell_type": "code",
   "execution_count": 86,
   "metadata": {
    "collapsed": false
   },
   "outputs": [
    {
     "name": "stdout",
     "output_type": "stream",
     "text": [
      "azkaban\n"
     ]
    }
   ],
   "source": [
    "// bind: creates new function with new data bound to it\n",
    "function f(){\n",
    "    return this.a\n",
    "}\n",
    "o = {a: 'azkaban'}\n",
    "var g = f.bind(o)\n",
    "console.log(g())"
   ]
  },
  {
   "cell_type": "code",
   "execution_count": 22,
   "metadata": {
    "collapsed": false
   },
   "outputs": [
    {
     "name": "stdout",
     "output_type": "stream",
     "text": [
      "{\"value\":0,\"done\":false}\n",
      "{\"value\":1,\"done\":false}\n",
      "{\"value\":2,\"done\":false}\n",
      "{\"done\":true}\n"
     ]
    }
   ],
   "source": [
    "// function*: a generator function\n",
    "function* foo(){\n",
    "  var index = 0;\n",
    "  while (index <= 2)\n",
    "    yield index++;\n",
    "}\n",
    "\n",
    "iter = foo()\n",
    "console.log(iter.next())\n",
    "console.log(iter.next())\n",
    "console.log(iter.next())\n",
    "console.log(iter.next())"
   ]
  },
  {
   "cell_type": "code",
   "execution_count": 24,
   "metadata": {
    "collapsed": false
   },
   "outputs": [
    {
     "name": "stdout",
     "output_type": "stream",
     "text": [
      "{\"value\":1,\"done\":false}\n",
      "{\"value\":2,\"done\":false}\n",
      "{\"value\":3,\"done\":false}\n",
      "{\"value\":4,\"done\":false}\n",
      "{\"done\":true}\n"
     ]
    }
   ],
   "source": [
    "// yield*\n",
    "function* g1() {\n",
    "  yield 2;\n",
    "  yield 3;\n",
    "}\n",
    "\n",
    "function* g2() {\n",
    "  yield 1;\n",
    "  yield* g1();\n",
    "  yield 4;\n",
    "}\n",
    "\n",
    "var iterator = g2();\n",
    "console.log(iterator.next());\n",
    "console.log(iterator.next());\n",
    "console.log(iterator.next());\n",
    "console.log(iterator.next());\n",
    "console.log(iterator.next());"
   ]
  },
  {
   "cell_type": "code",
   "execution_count": 133,
   "metadata": {
    "collapsed": false
   },
   "outputs": [
    {
     "name": "stdout",
     "output_type": "stream",
     "text": [
      "honda\n"
     ]
    }
   ],
   "source": [
    "// new\n",
    "class Car {\n",
    "    constructor(make){\n",
    "        this.make = make\n",
    "    }\n",
    "}\n",
    "\n",
    "var c = new Car('honda')\n",
    "console.log(c.make)"
   ]
  },
  {
   "cell_type": "code",
   "execution_count": 30,
   "metadata": {
    "collapsed": false
   },
   "outputs": [
    {
     "name": "stdout",
     "output_type": "stream",
     "text": [
      "honda crv\n"
     ]
    }
   ],
   "source": [
    "// super\n",
    "class Honda extends Car {\n",
    "    constructor(model){\n",
    "        super(\"honda\")\n",
    "        this.model = model\n",
    "    }\n",
    "}\n",
    "\n",
    "var h = new Honda('crv')\n",
    "console.log(h.make + ' ' + h.model)"
   ]
  },
  {
   "cell_type": "code",
   "execution_count": 40,
   "metadata": {
    "collapsed": false
   },
   "outputs": [
    {
     "name": "stdout",
     "output_type": "stream",
     "text": [
      "1\n",
      "2\n",
      "3\n"
     ]
    }
   ],
   "source": [
    "// ...obj: only applies to iterables\n",
    "function aFunc(p1,p2,p3) {\n",
    "    console.log(p1);\n",
    "    console.log(p2);\n",
    "    console.log(p3);\n",
    "}\n",
    "\n",
    "aFunc(...[1,2,3])"
   ]
  },
  {
   "cell_type": "code",
   "execution_count": 1,
   "metadata": {
    "collapsed": false
   },
   "outputs": [
    {
     "name": "stdout",
     "output_type": "stream",
     "text": [
      "true\n"
     ]
    }
   ],
   "source": [
    "// ternary operator\n",
    "var age = 11;\n",
    "var status = (age >= 18) ? \"adult\" : \"minor\";\n",
    "console.log(status === 'minor')"
   ]
  },
  {
   "cell_type": "code",
   "execution_count": 2,
   "metadata": {
    "collapsed": false
   },
   "outputs": [
    {
     "name": "stdout",
     "output_type": "stream",
     "text": [
      "1 5\n",
      "2 4\n",
      "3 3\n"
     ]
    }
   ],
   "source": [
    "// comma operator\n",
    "for (var i=1, j=5; i <= j; i++, j--){\n",
    "    console.log(i + ' ' + j)\n",
    "}"
   ]
  },
  {
   "cell_type": "code",
   "execution_count": 7,
   "metadata": {
    "collapsed": false
   },
   "outputs": [
    {
     "data": {
      "text/plain": [
       "true"
      ]
     },
     "execution_count": 7,
     "metadata": {},
     "output_type": "execute_result"
    }
   ],
   "source": [
    "// typeof\n",
    "typeof 42 === 'number';\n",
    "typeof \"s\" === 'string';\n",
    "typeof true === 'boolean';\n",
    "typeof null === 'object';"
   ]
  },
  {
   "cell_type": "code",
   "execution_count": 20,
   "metadata": {
    "collapsed": false
   },
   "outputs": [
    {
     "data": {
      "text/plain": [
       "true"
      ]
     },
     "execution_count": 20,
     "metadata": {},
     "output_type": "execute_result"
    }
   ],
   "source": [
    "// instanceof\n",
    "d = {a: 1, b: 2}\n",
    "d instanceof Object"
   ]
  },
  {
   "cell_type": "code",
   "execution_count": 25,
   "metadata": {
    "collapsed": false
   },
   "outputs": [
    {
     "ename": "Javascript Error",
     "evalue": "Unexpected token for",
     "output_type": "error",
     "traceback": [
      "SyntaxError: Unexpected token for"
     ]
    }
   ],
   "source": [
    "// [for (x of y) x]  : doesn't work here\n",
    "[for (i of [ 1, 2, 3 ]) i*i ]; "
   ]
  },
  {
   "cell_type": "code",
   "execution_count": 46,
   "metadata": {
    "collapsed": false
   },
   "outputs": [
    {
     "name": "stdout",
     "output_type": "stream",
     "text": [
      "8\n",
      "16\n",
      "1.7976931348623157e+308\n",
      "5e-324\n",
      "null\n",
      "0.000000000e+0\n",
      "0\n",
      "0.000000000\n",
      "0.00000000\n"
     ]
    }
   ],
   "source": [
    "// Numbers\n",
    "var a = 0o10;\n",
    "var b = 0x10\n",
    "console.log(a)\n",
    "console.log(b)\n",
    "console.log(Number.MAX_VALUE)\n",
    "console.log(Number.MIN_VALUE)\n",
    "console.log(Number.NaN)\n",
    "console.log(Number.prototype.toExponential(9))\n",
    "console.log(Number.prototype.toString(9))\n",
    "console.log(Number.prototype.toFixed(9))\n",
    "console.log(Number.prototype.toPrecision(9))"
   ]
  },
  {
   "cell_type": "code",
   "execution_count": 63,
   "metadata": {
    "collapsed": false
   },
   "outputs": [
    {
     "name": "stdout",
     "output_type": "stream",
     "text": [
      "true\n",
      "true\n"
     ]
    }
   ],
   "source": [
    "// Math\n",
    "console.log(String(Math.PI).substring(0, 4) === '3.14')\n",
    "console.log(Math.sin(Math.PI/2) == 1)"
   ]
  },
  {
   "cell_type": "code",
   "execution_count": 66,
   "metadata": {
    "collapsed": false
   },
   "outputs": [
    {
     "name": "stdout",
     "output_type": "stream",
     "text": [
      "[Date] \"2000-02-01T20:30:05.000Z\"\n",
      "[Date] \"2016-05-17T20:23:18.111Z\"\n"
     ]
    }
   ],
   "source": [
    "// Date\n",
    "var d = new Date(2000, 1, 1, 12, 30, 5)\n",
    "console.log(d)\n",
    "var today = new Date()\n",
    "console.log(today)"
   ]
  },
  {
   "cell_type": "code",
   "execution_count": 108,
   "metadata": {
    "collapsed": false
   },
   "outputs": [
    {
     "name": "stdout",
     "output_type": "stream",
     "text": [
      "©\n",
      "Foo!\n",
      "4\n",
      "3\n",
      "true\n",
      "true\n",
      "[Array] [\"F\",\"\",\"!\"]\n",
      "foo!\n",
      "FOO!\n",
      "true\n",
      "true\n",
      "[Array] [\"Foo\"]\n"
     ]
    }
   ],
   "source": [
    "// Strings\n",
    "console.log('\\xA9')\n",
    "console.log('Foo!')\n",
    "console.log(eval(\"2 + 2\"))\n",
    "console.log('Foo!'.indexOf('!'))\n",
    "console.log('Foo!'.startsWith('F'))\n",
    "console.log('Foo!'.charAt(1) === 'o')\n",
    "\n",
    "var re = /\\s*o\\s*/;\n",
    "console.log('Foo!'.split(re))\n",
    "console.log('Foo!'.toLowerCase())\n",
    "console.log('Foo!'.toUpperCase())\n",
    "console.log('Foo!'.startsWith('F'))\n",
    "console.log('Foo!'.endsWith('!'))\n",
    "console.log('Foo!'.match(/[A-Z][a-z]+/))"
   ]
  },
  {
   "cell_type": "code",
   "execution_count": 124,
   "metadata": {
    "collapsed": false
   },
   "outputs": [
    {
     "name": "stdout",
     "output_type": "stream",
     "text": [
      "tommy\n",
      "[Array] [\"first\",\"billy\"]\n",
      "[Array] [\"second\",\"timmy\"]\n",
      "[Array] [\"third\",\"tommy\"]\n"
     ]
    }
   ],
   "source": [
    "// Map\n",
    "var names = new Map();\n",
    "names.set(\"first\", \"billy\");\n",
    "names.set(\"second\", \"timmy\");\n",
    "names.set(\"third\", \"tommy\");\n",
    "console.log(names.get(\"third\"))\n",
    "for (let i of names){\n",
    "    console.log(i)\n",
    "}"
   ]
  },
  {
   "cell_type": "code",
   "execution_count": 131,
   "metadata": {
    "collapsed": false
   },
   "outputs": [
    {
     "name": "stdout",
     "output_type": "stream",
     "text": [
      "billy\n",
      "timmy\n",
      "tommy\n",
      "2\n"
     ]
    }
   ],
   "source": [
    "// Set\n",
    "var names = new Set();\n",
    "names.add(\"billy\");\n",
    "names.add(\"timmy\");\n",
    "names.add(\"tommy\");\n",
    "for (let i of names) console.log(i)\n",
    "names.delete(\"billy\")\n",
    "console.log(names.size)"
   ]
  },
  {
   "cell_type": "code",
   "execution_count": 42,
   "metadata": {
    "collapsed": false,
    "scrolled": true
   },
   "outputs": [
    {
     "data": {
      "text/plain": [
       "[Array] [1,2,3]"
      ]
     },
     "execution_count": 42,
     "metadata": {},
     "output_type": "execute_result"
    }
   ],
   "source": [
    "a = [1,2,3]\n",
    "b = a.map(function(x){return x+1})\n",
    "c = a.filter(function(x){return x === 1})\n",
    "d = a.reduce(function(x,y){return x + y})\n",
    "a.reverse()\n",
    "a.sort()\n",
    "a.slice(0, 2)\n",
    "e = a.splice(0, 2)\n",
    "a = e.concat(a)"
   ]
  },
  {
   "cell_type": "code",
   "execution_count": 43,
   "metadata": {
    "collapsed": false
   },
   "outputs": [
    {
     "data": {
      "text/plain": [
       "[Array] [0,1,2,3,4,5,6,7,8,9]"
      ]
     },
     "execution_count": 43,
     "metadata": {},
     "output_type": "execute_result"
    }
   ],
   "source": [
    "a = []\n",
    "for (var i=0; i < 10; i++){\n",
    "    a[i] = i;\n",
    "}"
   ]
  }
 ],
 "metadata": {
  "kernelspec": {
   "display_name": "NodeJS",
   "language": "javascript",
   "name": "nodejs"
  },
  "language_info": {
   "codemirror_mode": "javascript",
   "file_extension": "js",
   "mimetype": "text/javascript",
   "name": "nodejs",
   "pygments_lexer": "javascript",
   "version": "0.10"
  }
 },
 "nbformat": 4,
 "nbformat_minor": 0
}
